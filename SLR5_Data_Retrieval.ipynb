{
  "nbformat": 4,
  "nbformat_minor": 0,
  "metadata": {
    "colab": {
      "name": "SLR5_Data_Retrieval.ipynb",
      "provenance": [],
      "collapsed_sections": [],
      "authorship_tag": "ABX9TyP+2mpe7eU3DXeDH/R9QJZL",
      "include_colab_link": true
    },
    "kernelspec": {
      "name": "python3",
      "display_name": "Python 3"
    },
    "widgets": {
      "application/vnd.jupyter.widget-state+json": {
        "4ed6d702a90a44b3a6b09aaa25c6d3c1": {
          "model_module": "@jupyter-widgets/controls",
          "model_name": "HBoxModel",
          "state": {
            "_view_name": "HBoxView",
            "_dom_classes": [],
            "_model_name": "HBoxModel",
            "_view_module": "@jupyter-widgets/controls",
            "_model_module_version": "1.5.0",
            "_view_count": null,
            "_view_module_version": "1.5.0",
            "box_style": "",
            "layout": "IPY_MODEL_c2047f0150f6498bb1b2207c12fe30d3",
            "_model_module": "@jupyter-widgets/controls",
            "children": [
              "IPY_MODEL_02b52afc78974b3389af04430c5e6b90",
              "IPY_MODEL_c8eee36aaca94321b28ee10ef414acbe",
              "IPY_MODEL_23ea66226bd74a0c8e7cbdad23f4d7e9"
            ]
          }
        },
        "c2047f0150f6498bb1b2207c12fe30d3": {
          "model_module": "@jupyter-widgets/base",
          "model_name": "LayoutModel",
          "state": {
            "_view_name": "LayoutView",
            "grid_template_rows": null,
            "right": null,
            "justify_content": null,
            "_view_module": "@jupyter-widgets/base",
            "overflow": null,
            "_model_module_version": "1.2.0",
            "_view_count": null,
            "flex_flow": null,
            "width": null,
            "min_width": null,
            "border": null,
            "align_items": null,
            "bottom": null,
            "_model_module": "@jupyter-widgets/base",
            "top": null,
            "grid_column": null,
            "overflow_y": null,
            "overflow_x": null,
            "grid_auto_flow": null,
            "grid_area": null,
            "grid_template_columns": null,
            "flex": null,
            "_model_name": "LayoutModel",
            "justify_items": null,
            "grid_row": null,
            "max_height": null,
            "align_content": null,
            "visibility": null,
            "align_self": null,
            "height": null,
            "min_height": null,
            "padding": null,
            "grid_auto_rows": null,
            "grid_gap": null,
            "max_width": null,
            "order": null,
            "_view_module_version": "1.2.0",
            "grid_template_areas": null,
            "object_position": null,
            "object_fit": null,
            "grid_auto_columns": null,
            "margin": null,
            "display": null,
            "left": null
          }
        },
        "02b52afc78974b3389af04430c5e6b90": {
          "model_module": "@jupyter-widgets/controls",
          "model_name": "ButtonModel",
          "state": {
            "_view_name": "ButtonView",
            "style": "IPY_MODEL_ebe822e53b6645f3b7158836f1cb5f45",
            "_dom_classes": [],
            "description": "Include",
            "_model_name": "ButtonModel",
            "button_style": "",
            "_view_module": "@jupyter-widgets/controls",
            "_model_module_version": "1.5.0",
            "tooltip": "",
            "_view_count": null,
            "disabled": false,
            "_view_module_version": "1.5.0",
            "layout": "IPY_MODEL_e92c8c7d00454913b65f163eaf4e3d96",
            "_model_module": "@jupyter-widgets/controls",
            "icon": ""
          }
        },
        "c8eee36aaca94321b28ee10ef414acbe": {
          "model_module": "@jupyter-widgets/controls",
          "model_name": "ButtonModel",
          "state": {
            "_view_name": "ButtonView",
            "style": "IPY_MODEL_85d32419064e47f382db2c5ebb7b1dee",
            "_dom_classes": [],
            "description": "Exclude",
            "_model_name": "ButtonModel",
            "button_style": "",
            "_view_module": "@jupyter-widgets/controls",
            "_model_module_version": "1.5.0",
            "tooltip": "",
            "_view_count": null,
            "disabled": false,
            "_view_module_version": "1.5.0",
            "layout": "IPY_MODEL_69f4416b1630466596d1ce7ac3a9afb7",
            "_model_module": "@jupyter-widgets/controls",
            "icon": ""
          }
        },
        "23ea66226bd74a0c8e7cbdad23f4d7e9": {
          "model_module": "@jupyter-widgets/controls",
          "model_name": "ButtonModel",
          "state": {
            "_view_name": "ButtonView",
            "style": "IPY_MODEL_bf50e9cba26a41a096e1bd41e271d08f",
            "_dom_classes": [],
            "description": "Save and Exit",
            "_model_name": "ButtonModel",
            "button_style": "",
            "_view_module": "@jupyter-widgets/controls",
            "_model_module_version": "1.5.0",
            "tooltip": "",
            "_view_count": null,
            "disabled": false,
            "_view_module_version": "1.5.0",
            "layout": "IPY_MODEL_d725da25f7454e3fb10778905b2df622",
            "_model_module": "@jupyter-widgets/controls",
            "icon": ""
          }
        },
        "ebe822e53b6645f3b7158836f1cb5f45": {
          "model_module": "@jupyter-widgets/controls",
          "model_name": "ButtonStyleModel",
          "state": {
            "_view_name": "StyleView",
            "_model_name": "ButtonStyleModel",
            "_view_module": "@jupyter-widgets/base",
            "_model_module_version": "1.5.0",
            "_view_count": null,
            "button_color": null,
            "font_weight": "",
            "_view_module_version": "1.2.0",
            "_model_module": "@jupyter-widgets/controls"
          }
        },
        "e92c8c7d00454913b65f163eaf4e3d96": {
          "model_module": "@jupyter-widgets/base",
          "model_name": "LayoutModel",
          "state": {
            "_view_name": "LayoutView",
            "grid_template_rows": null,
            "right": null,
            "justify_content": null,
            "_view_module": "@jupyter-widgets/base",
            "overflow": null,
            "_model_module_version": "1.2.0",
            "_view_count": null,
            "flex_flow": null,
            "width": null,
            "min_width": null,
            "border": null,
            "align_items": null,
            "bottom": null,
            "_model_module": "@jupyter-widgets/base",
            "top": null,
            "grid_column": null,
            "overflow_y": null,
            "overflow_x": null,
            "grid_auto_flow": null,
            "grid_area": null,
            "grid_template_columns": null,
            "flex": null,
            "_model_name": "LayoutModel",
            "justify_items": null,
            "grid_row": null,
            "max_height": null,
            "align_content": null,
            "visibility": null,
            "align_self": null,
            "height": null,
            "min_height": null,
            "padding": null,
            "grid_auto_rows": null,
            "grid_gap": null,
            "max_width": null,
            "order": null,
            "_view_module_version": "1.2.0",
            "grid_template_areas": null,
            "object_position": null,
            "object_fit": null,
            "grid_auto_columns": null,
            "margin": null,
            "display": null,
            "left": null
          }
        },
        "85d32419064e47f382db2c5ebb7b1dee": {
          "model_module": "@jupyter-widgets/controls",
          "model_name": "ButtonStyleModel",
          "state": {
            "_view_name": "StyleView",
            "_model_name": "ButtonStyleModel",
            "_view_module": "@jupyter-widgets/base",
            "_model_module_version": "1.5.0",
            "_view_count": null,
            "button_color": null,
            "font_weight": "",
            "_view_module_version": "1.2.0",
            "_model_module": "@jupyter-widgets/controls"
          }
        },
        "69f4416b1630466596d1ce7ac3a9afb7": {
          "model_module": "@jupyter-widgets/base",
          "model_name": "LayoutModel",
          "state": {
            "_view_name": "LayoutView",
            "grid_template_rows": null,
            "right": null,
            "justify_content": null,
            "_view_module": "@jupyter-widgets/base",
            "overflow": null,
            "_model_module_version": "1.2.0",
            "_view_count": null,
            "flex_flow": null,
            "width": null,
            "min_width": null,
            "border": null,
            "align_items": null,
            "bottom": null,
            "_model_module": "@jupyter-widgets/base",
            "top": null,
            "grid_column": null,
            "overflow_y": null,
            "overflow_x": null,
            "grid_auto_flow": null,
            "grid_area": null,
            "grid_template_columns": null,
            "flex": null,
            "_model_name": "LayoutModel",
            "justify_items": null,
            "grid_row": null,
            "max_height": null,
            "align_content": null,
            "visibility": null,
            "align_self": null,
            "height": null,
            "min_height": null,
            "padding": null,
            "grid_auto_rows": null,
            "grid_gap": null,
            "max_width": null,
            "order": null,
            "_view_module_version": "1.2.0",
            "grid_template_areas": null,
            "object_position": null,
            "object_fit": null,
            "grid_auto_columns": null,
            "margin": null,
            "display": null,
            "left": null
          }
        },
        "bf50e9cba26a41a096e1bd41e271d08f": {
          "model_module": "@jupyter-widgets/controls",
          "model_name": "ButtonStyleModel",
          "state": {
            "_view_name": "StyleView",
            "_model_name": "ButtonStyleModel",
            "_view_module": "@jupyter-widgets/base",
            "_model_module_version": "1.5.0",
            "_view_count": null,
            "button_color": null,
            "font_weight": "",
            "_view_module_version": "1.2.0",
            "_model_module": "@jupyter-widgets/controls"
          }
        },
        "d725da25f7454e3fb10778905b2df622": {
          "model_module": "@jupyter-widgets/base",
          "model_name": "LayoutModel",
          "state": {
            "_view_name": "LayoutView",
            "grid_template_rows": null,
            "right": null,
            "justify_content": null,
            "_view_module": "@jupyter-widgets/base",
            "overflow": null,
            "_model_module_version": "1.2.0",
            "_view_count": null,
            "flex_flow": null,
            "width": null,
            "min_width": null,
            "border": null,
            "align_items": null,
            "bottom": null,
            "_model_module": "@jupyter-widgets/base",
            "top": null,
            "grid_column": null,
            "overflow_y": null,
            "overflow_x": null,
            "grid_auto_flow": null,
            "grid_area": null,
            "grid_template_columns": null,
            "flex": null,
            "_model_name": "LayoutModel",
            "justify_items": null,
            "grid_row": null,
            "max_height": null,
            "align_content": null,
            "visibility": null,
            "align_self": null,
            "height": null,
            "min_height": null,
            "padding": null,
            "grid_auto_rows": null,
            "grid_gap": null,
            "max_width": null,
            "order": null,
            "_view_module_version": "1.2.0",
            "grid_template_areas": null,
            "object_position": null,
            "object_fit": null,
            "grid_auto_columns": null,
            "margin": null,
            "display": null,
            "left": null
          }
        }
      }
    }
  },
  "cells": [
    {
      "cell_type": "markdown",
      "metadata": {
        "id": "view-in-github",
        "colab_type": "text"
      },
      "source": [
        "<a href=\"https://colab.research.google.com/github/rvdinter/slr-study-selection/blob/main/SLR5_Data_Retrieval.ipynb\" target=\"_parent\"><img src=\"https://colab.research.google.com/assets/colab-badge.svg\" alt=\"Open In Colab\"/></a>"
      ]
    },
    {
      "cell_type": "markdown",
      "metadata": {
        "id": "dnBux_r92Tq6"
      },
      "source": [
        "#SLR5 - Data Retrieval\r\n",
        "This notebook enables researchers to retrieve citations through accessing multiple API's at once.\r\n",
        "\r\n",
        "\r\n",
        "**Requirements:**\r\n",
        "\r\n",
        "\r\n",
        "*   API keys for Pubmed and Elsevier API\r\n",
        "*   For Elsevier's API, you must have a connection via an Academic IP address (Can be through VPN)\r\n",
        "\r\n"
      ]
    },
    {
      "cell_type": "code",
      "metadata": {
        "colab": {
          "base_uri": "https://localhost:8080/"
        },
        "id": "gsfqWSXt5QVR",
        "outputId": "059dce6f-563a-4ccd-c23d-cd6f33ed27f3"
      },
      "source": [
        "#@title Run this cell to install and import all requirements { display-mode: \"form\" }\r\n",
        "!pip install elsapy\r\n",
        "!pip install biopython\r\n",
        "from Bio import Entrez\r\n",
        "from elsapy.elsclient import ElsClient\r\n",
        "from elsapy.elsprofile import ElsAuthor, ElsAffil\r\n",
        "from elsapy.elsdoc import FullDoc, AbsDoc\r\n",
        "from elsapy.elssearch import ElsSearch\r\n",
        "import pandas as pd\r\n",
        "import ipywidgets as widgets\r\n",
        "import csv \r\n",
        "from Bio import Medline\r\n",
        "import requests"
      ],
      "execution_count": 1,
      "outputs": [
        {
          "output_type": "stream",
          "text": [
            "Collecting elsapy\n",
            "  Downloading https://files.pythonhosted.org/packages/d8/7b/934ef0e29ebc283d60ef9ae78c1f583ef5ca652144dc8215bba4de9d9fde/elsapy-0.5.0-py3-none-any.whl\n",
            "Requirement already satisfied: requests in /usr/local/lib/python3.6/dist-packages (from elsapy) (2.23.0)\n",
            "Requirement already satisfied: chardet<4,>=3.0.2 in /usr/local/lib/python3.6/dist-packages (from requests->elsapy) (3.0.4)\n",
            "Requirement already satisfied: idna<3,>=2.5 in /usr/local/lib/python3.6/dist-packages (from requests->elsapy) (2.10)\n",
            "Requirement already satisfied: certifi>=2017.4.17 in /usr/local/lib/python3.6/dist-packages (from requests->elsapy) (2020.12.5)\n",
            "Requirement already satisfied: urllib3!=1.25.0,!=1.25.1,<1.26,>=1.21.1 in /usr/local/lib/python3.6/dist-packages (from requests->elsapy) (1.24.3)\n",
            "Installing collected packages: elsapy\n",
            "Successfully installed elsapy-0.5.0\n",
            "Collecting biopython\n",
            "\u001b[?25l  Downloading https://files.pythonhosted.org/packages/76/02/8b606c4aa92ff61b5eda71d23b499ab1de57d5e818be33f77b01a6f435a8/biopython-1.78-cp36-cp36m-manylinux1_x86_64.whl (2.3MB)\n",
            "\u001b[K     |████████████████████████████████| 2.3MB 5.8MB/s \n",
            "\u001b[?25hRequirement already satisfied: numpy in /usr/local/lib/python3.6/dist-packages (from biopython) (1.19.5)\n",
            "Installing collected packages: biopython\n",
            "Successfully installed biopython-1.78\n"
          ],
          "name": "stdout"
        }
      ]
    },
    {
      "cell_type": "code",
      "metadata": {
        "id": "m6hw-bHk9nak"
      },
      "source": [
        "#@title # SLR5 - Data Retrieval { display-mode: \"form\" }\r\n",
        "#@markdown ---\r\n",
        "\r\n",
        "#@markdown ### Enter a the following required lines:\r\n",
        "elsevier_api_key = 'bb28136bcb09d86431fcbc948c0fda22' #@param {type:'string'}\r\n",
        "springer_api_key = 'b16ffe0831f09468ac1c6b6d1aedb21c' #@param {type:'string'}\r\n",
        "your_email = \"Your.Name.Here@example.org\" #@param {type:'string'}\r\n",
        "Entrez.email = your_email\r\n",
        "#@markdown ---\r\n",
        "\r\n",
        "#@markdown ### Choose your databases\r\n",
        "pubmed = True #@param {type:\"boolean\"}\r\n",
        "sciencedirect = False #@param {type:\"boolean\"}\r\n",
        "springer = True #@param {type:\"boolean\"}\r\n",
        "\r\n",
        "#@markdown ---\r\n",
        "\r\n",
        "#@markdown ### Put in your search query\r\n",
        "search_query = \"Automation OR Automate OR Automates OR Automating) AND (\\\"Systematic Literature Review\\\" OR \\\"Systematic Review\\\")\" #@param {type:'string'}\r\n",
        "\r\n",
        "#@markdown ### Choose your fields\r\n",
        "#@markdown If you didn't choose the database to search, it does not matter what field you choose for that particular database\r\n",
        "\r\n",
        "# EXAMPLE: Here, we request all possible fields for the PubMed database.\r\n",
        "# print possible_fields_df if you want to use another field that Title/Abstract\r\n",
        "# Through Entrez.einfo, you can also find all other databases and their fields.\r\n",
        "# record = Entrez.read(Entrez.einfo(db='pubmed'))\r\n",
        "# possible_fields_df = pd.DataFrame(record['DbInfo']['FieldList'])\r\n",
        "\r\n",
        "pubmed_field = 'TIAB' #@param ['ALL', 'UID', 'FILT', 'TITL', 'WORD', 'MESH', 'MAJR', 'AUTH', 'JOUR', 'AFFL', 'ECNO', 'SUBS', 'PDAT', 'EDAT', 'VOL', 'PAGE', 'PTYP', 'LANG', 'ISS', 'SUBH', 'SI', 'MHDA', 'TIAB', 'OTRM', 'INVR', 'COLN', 'CNTY', 'PAPX', 'GRNT', 'MDAT', 'CDAT', 'PID', 'FAUT', 'FULL', 'FINV', 'TT', 'LAUT', 'PPDT', 'EPDT', 'LID', 'CRDT', 'BOOK', 'ED', 'ISBN', 'PUBN', 'AUCL', 'EID', 'DSO', 'AUID', 'PS', 'COIS'] {type:\"raw\"}\r\n",
        "\r\n",
        "#@markdown ### Choose in which timeframe you want to search\r\n",
        "#@markdown Springer only searches on year, not exact date\r\n",
        "start_date = '2000/01/01' #@param {type:\"date\"}\r\n",
        "end_date = '2021/01/01' #@param {type:\"date\"}"
      ],
      "execution_count": 2,
      "outputs": []
    },
    {
      "cell_type": "code",
      "metadata": {
        "colab": {
          "base_uri": "https://localhost:8080/"
        },
        "id": "27wmO3HU-iFw",
        "outputId": "4fc8b082-5a10-45c9-ff12-ddf44daed225"
      },
      "source": [
        "#@title Run this cell to execute your query { display-mode: \"form\" }\r\n",
        "if pubmed:\r\n",
        "    print('--- Pubmed ---')\r\n",
        "    # Find all article IDs containing search query, sorted by relevance\r\n",
        "    handle = Entrez.esearch(db=\"pubmed\", retmax=200, term=search_query, sorted='relevance', idtype=\"acc\",field=pubmed_field, mindate=start_date, maxdate=end_date)\r\n",
        "    record = Entrez.read(handle)\r\n",
        "    handle.close()\r\n",
        "\r\n",
        "    # Retrieve all article data by ID\r\n",
        "    idlist = record[\"IdList\"]\r\n",
        "    handle = Entrez.efetch(db=\"pubmed\", id=idlist, rettype=\"medline\", retmode=\"text\")\r\n",
        "    docs = []\r\n",
        "\r\n",
        "    # Parse data in medline format and save to file\r\n",
        "    articles = Medline.parse(handle)\r\n",
        "    for article in articles:\r\n",
        "        docs.append(article)\r\n",
        "    pubmed_df = pd.DataFrame(docs)\r\n",
        "    pubmed_df = pubmed_df.rename(columns={'TI': 'title', 'AB':'abstract', 'AID': 'identifier', 'DP':'publicationDate'})\r\n",
        "    pubmed_df['database'] = 'pubmed'\r\n",
        "    print(\"The query interpreted by PubMed: {} \\nThis query resulted into {} records found.\".format(record['QueryTranslation'], record[\"Count\"]))\r\n",
        "\r\n",
        "if springer:\r\n",
        "    print('--- Springer ---')\r\n",
        "    # Springer allows a maximum of 100 returns\r\n",
        "    retmax = 100\r\n",
        "    x = requests.get(f'http://api.springernature.com/meta/v2/json?q={search_query}&api_key={springer_api_key}&p={retmax}&date-facet-mode=between&facet-start-year={start_date[:4]}&showAll=true&facet-end-year={end_date[:4]}')\r\n",
        "    springer_df = pd.DataFrame(x.json()['records'])\r\n",
        "    springer_df['database'] = 'springer'\r\n",
        "    print(\"This query resulted into {} records found.\".format(len(springer_df)))\r\n",
        "\r\n",
        "\r\n",
        "if sciencedirect:\r\n",
        "    print('--- ScienceDirect ---')\r\n",
        "    ## Initialize client\r\n",
        "    client = ElsClient(elsevier_api_key)\r\n",
        "\r\n",
        "    # If get_all = True, then all results will be retrieved, with a maximum of 5000, \r\n",
        "    # otherwise, 20 results will be retrieved (1 API request)\r\n",
        "    get_all = False\r\n",
        "\r\n",
        "    ## Initialize doc search object using ScienceDirect and execute search, \r\n",
        "    #   retrieving all results\r\n",
        "    doc_srch = ElsSearch(search_query, 'sciencedirect')\r\n",
        "    doc_srch.execute(client, get_all=get_all)\r\n",
        "    print(\"doc_srch has\", doc_srch.len_res(), \"results.\")\r\n",
        "\r\n",
        "    sciencedirect_df = doc_srch.results_df\r\n",
        "\r\n",
        "if not pubmed and not springer and not sciencedirect:\r\n",
        "    print('No database selected')\r\n",
        "else:\r\n",
        "    query_results = pd.concat([pubmed_df[['title', 'abstract', 'identifier', 'database', 'publicationDate']], springer_df[['title', 'abstract', 'identifier', 'database', 'publicationDate']]], ignore_index=True)\r\n",
        "    query_results.to_excel('query_results.xlsx')\r\n",
        "    print('Articles have been saved to query_results.xlsx')"
      ],
      "execution_count": 3,
      "outputs": [
        {
          "output_type": "stream",
          "text": [
            "--- Pubmed ---\n",
            "The query interpreted by PubMed: Automation[Title/Abstract] OR Automate[Title/Abstract] OR Automates[Title/Abstract] OR Automating[Title/Abstract] AND (\"Systematic Literature Review\"[Title/Abstract] OR \"Systematic Review\"[Title/Abstract]) AND 2000/01/01[EDAT] : 2021/01/01[EDAT] \n",
            "This query resulted into 127 records found.\n",
            "--- Springer ---\n",
            "This query resulted into 100 records found.\n",
            "Articles have been saved to query_results.xlsx\n"
          ],
          "name": "stdout"
        }
      ]
    },
    {
      "cell_type": "code",
      "metadata": {
        "id": "KIuXwIrkJZM8",
        "cellView": "form"
      },
      "source": [
        "#@title #SLR6 - Study Selection\r\n",
        "from IPython.display import HTML, display, clear_output\r\n",
        "import ipywidgets as widgets\r\n",
        "from sklearn.model_selection import train_test_split\r\n",
        "import numpy as np"
      ],
      "execution_count": 4,
      "outputs": []
    },
    {
      "cell_type": "code",
      "metadata": {
        "id": "PmbnRM8CMfcc",
        "cellView": "form"
      },
      "source": [
        "#@markdown ### Run this cell if you want to load the full dataset and split into train and test data\r\n",
        "query_results = pd.read_excel('query_results.xlsx')\r\n",
        "query_results['label'] = np.nan\r\n",
        "\r\n",
        "Xtrain, Xtest, ytrain, ytest = train_test_split(query_results[['title', 'publicationDate', 'identifier', 'abstract']], query_results['label'], test_size=0.5)\r\n",
        "\r\n",
        "train = pd.concat([Xtrain, ytrain], axis=1)\r\n",
        "test = pd.concat([Xtest, ytest], axis=1)\r\n",
        "train.to_excel('train.xlsx')\r\n",
        "test.to_excel('test.xlsx')"
      ],
      "execution_count": 5,
      "outputs": []
    },
    {
      "cell_type": "code",
      "metadata": {
        "colab": {
          "base_uri": "https://localhost:8080/",
          "height": 188,
          "referenced_widgets": [
            "4ed6d702a90a44b3a6b09aaa25c6d3c1",
            "c2047f0150f6498bb1b2207c12fe30d3",
            "02b52afc78974b3389af04430c5e6b90",
            "c8eee36aaca94321b28ee10ef414acbe",
            "23ea66226bd74a0c8e7cbdad23f4d7e9",
            "ebe822e53b6645f3b7158836f1cb5f45",
            "e92c8c7d00454913b65f163eaf4e3d96",
            "85d32419064e47f382db2c5ebb7b1dee",
            "69f4416b1630466596d1ce7ac3a9afb7",
            "bf50e9cba26a41a096e1bd41e271d08f",
            "d725da25f7454e3fb10778905b2df622"
          ]
        },
        "id": "sweOChHyNkhP",
        "cellView": "form",
        "outputId": "0e68f56a-49d8-4885-e3f0-1aa96b00551c"
      },
      "source": [
        "#@markdown ### Run this cell to start manual classification of the train set\r\n",
        "train_set = pd.read_excel('train.xlsx')\r\n",
        "train_set = train_set[['title', 'publicationDate', 'identifier', 'abstract', 'label']]\r\n",
        "\r\n",
        "\r\n",
        "already_classified = train_set[~train_set['label'].isna()]\r\n",
        "train = train_set[train_set['label'].isna()].reset_index()\r\n",
        "\r\n",
        "\r\n",
        "include = widgets.Button(description=\"Include\")\r\n",
        "exclude = widgets.Button(description=\"Exclude\")\r\n",
        "save_and_exit = widgets.Button(description=\"Save and Exit\")\r\n",
        "hbox = widgets.HBox([include, exclude, save_and_exit])\r\n",
        "display(hbox)\r\n",
        "\r\n",
        "i = 0\r\n",
        "\r\n",
        "def on_button_clicked_include(b):\r\n",
        "    global i\r\n",
        "    train['label'][i] = True\r\n",
        "    clear_output()\r\n",
        "    if i < len(train):\r\n",
        "        i += 1\r\n",
        "        display(hbox)\r\n",
        "        print('\\nReview {} out of {}.\\n\\nTitle: {}\\nYear: {}\\nIdentifier: {}\\nAbstract: {}'.format(i+1, len(train)+1, train['title'][i], train['publicationDate'][i], train['identifier'][i], train['abstract'][i]))\r\n",
        "    else:\r\n",
        "        print('All citations have been reviewed.')\r\n",
        "        save_set = pd.concat([already_classified, train], ignore_index=True)\r\n",
        "        save_set.to_excel('train.xlsx')\r\n",
        "        print('Training set updated and saved.')\r\n",
        "\r\n",
        "def on_button_clicked_exclude(b):\r\n",
        "    global i\r\n",
        "    train['label'][i] = False\r\n",
        "    clear_output()\r\n",
        "    if i < len(train):\r\n",
        "        i += 1\r\n",
        "        display(hbox)\r\n",
        "        print('\\nReview {} out of {}.\\n\\nTitle: {}\\nYear: {}\\nIdentifier: {}\\nAbstract: {}'.format(i+1, len(train)+1, train['title'][i], train['publicationDate'][i], train['identifier'][i], train['abstract'][i]))\r\n",
        "    else:\r\n",
        "        print('All citations have been reviewed.')\r\n",
        "        save_set = pd.concat([already_classified, train], ignore_index=True)\r\n",
        "        save_set.to_excel('train.xlsx')\r\n",
        "        print('Training set updated and saved.')\r\n",
        "\r\n",
        "def on_button_clicked_save_and_exit(b):\r\n",
        "    save_set = pd.concat([already_classified, train], ignore_index=True)\r\n",
        "    save_set.to_excel('train.xlsx')\r\n",
        "    print('Training set updated and saved.')\r\n",
        "\r\n",
        "\r\n",
        "include.on_click(on_button_clicked_include)\r\n",
        "exclude.on_click(on_button_clicked_exclude)\r\n",
        "save_and_exit.on_click(on_button_clicked_save_and_exit)\r\n",
        "print('\\nReview {} out of {}.\\n\\nTitle: {}\\nYear: {}\\nIdentifier: {}\\nAbstract: {}'.format(i+1, len(train)+1, train['title'][i], train['publicationDate'][i], train['identifier'][i], train['abstract'][i]))"
      ],
      "execution_count": 6,
      "outputs": [
        {
          "output_type": "display_data",
          "data": {
            "application/vnd.jupyter.widget-view+json": {
              "model_id": "4ed6d702a90a44b3a6b09aaa25c6d3c1",
              "version_minor": 0,
              "version_major": 2
            },
            "text/plain": [
              "HBox(children=(Button(description='Include', style=ButtonStyle()), Button(description='Exclude', style=ButtonS…"
            ]
          },
          "metadata": {
            "tags": []
          }
        },
        {
          "output_type": "stream",
          "text": [
            "\n",
            "Review 5 out of 114.\n",
            "\n",
            "Title: Effects of a multifaceted intervention to promote the use of intravenous iron sucrose complex instead of ferric carboxymaltose in patients admitted for more than 24 h\n",
            "Year: 2021-02-01\n",
            "Identifier: doi:10.1007/s00228-020-02993-y\n",
            "Abstract: Purpose Although more practical for use, the impact of ferric carboxymaltose (FCM) on the hospital budget is considerable, and intravenous iron sucrose complex (ISC) represents a cost-saving alternative for the management of iron deficiency anemia in patients during hospitalization. The Drug Committee decided to reserve FCM for day hospitalizations and contraindications to ISC, especially allergy. ISC was available for prescription for all other situations. Methods The impact of a multifaceted intervention promoting a switch from FCM to ISC was evaluated using an interrupted time series model with segmented regression analysis. The standardized rate of the dispensing of FCM, ISC, and oral iron by the hospital pharmacy, as well as the rate of the dispensing of packed red blood cells and the number of biological iron status measurements, was analyzed before and after the intervention. Results There was an immediate decrease in FCM consumption following the intervention, with a reduction of 88% (RR: 0.12 [CI_95% 0.10 to 0.15]). Conversely, there was a large increase in ISC use (RR: 5.1 [CI_95% 4.4 to 5.9]). We did not observe a prescription shift to packed red blood cells or oral iron after the intervention. The time series analysis showed the frequency of iron status testing to remain stable before and after. The direct savings for intravenous iron for 8 months were 187,417.54 €. Conclusion Our intervention to lower the impact of intravenous iron therapy on the hospital budget was effective.\n"
          ],
          "name": "stdout"
        }
      ]
    },
    {
      "cell_type": "code",
      "metadata": {
        "id": "d_Bd8iBM2ODX"
      },
      "source": [
        ""
      ],
      "execution_count": null,
      "outputs": []
    }
  ]
}